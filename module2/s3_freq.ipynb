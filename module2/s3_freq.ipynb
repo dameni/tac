{
 "cells": [
  {
   "cell_type": "markdown",
   "metadata": {},
   "source": [
    "# Analalyse de la distribution du vocabulaire"
   ]
  },
  {
   "cell_type": "markdown",
   "metadata": {},
   "source": [
    "## Imports et dépendances"
   ]
  },
  {
   "cell_type": "code",
   "execution_count": 1,
   "metadata": {
    "tags": []
   },
   "outputs": [
    {
     "name": "stderr",
     "output_type": "stream",
     "text": [
      "[nltk_data] Downloading package stopwords to\n",
      "[nltk_data]     C:\\Users\\PC\\AppData\\Roaming\\nltk_data...\n",
      "[nltk_data]   Unzipping corpora\\stopwords.zip.\n"
     ]
    }
   ],
   "source": [
    "\n",
    "import nltk\n",
    "nltk.download('stopwords')\n",
    "from nltk.corpus import stopwords"
   ]
  },
  {
   "cell_type": "markdown",
   "metadata": {},
   "source": [
    "## Créer une une liste de stopwords"
   ]
  },
  {
   "cell_type": "code",
   "execution_count": 4,
   "metadata": {
    "tags": []
   },
   "outputs": [],
   "source": [
    "sw = stopwords.words(\"french\")\n",
    "sw += [\"les\", \"plus\", \"cette\", \"fait\", \"faire\", \"être\", \"deux\", \"comme\", \"dont\", \"tout\", \n",
    "       \"ils\", \"bien\", \"sans\", \"peut\", \"tous\", \"après\", \"ainsi\", \"donc\", \"cet\", \"sous\",\n",
    "       \"celle\", \"entre\", \"encore\", \"toutes\", \"pendant\", \"moins\", \"dire\", \"cela\", \"non\",\n",
    "       \"faut\", \"trois\", \"aussi\", \"dit\", \"avoir\", \"doit\", \"contre\", \"depuis\", \"autres\",\n",
    "       \"van\", \"het\", \"autre\", \"jusqu\"]\n",
    "sw = set(sw)"
   ]
  },
  {
   "cell_type": "code",
   "execution_count": 5,
   "metadata": {},
   "outputs": [
    {
     "name": "stdout",
     "output_type": "stream",
     "text": [
      "197 stopwords:\n",
      " ['ai', 'aie', 'aient', 'aies', 'ainsi', 'ait', 'après', 'as', 'au', 'aura', 'aurai', 'auraient', 'aurais', 'aurait', 'auras', 'aurez', 'auriez', 'aurions', 'aurons', 'auront', 'aussi', 'autre', 'autres', 'aux', 'avaient', 'avais', 'avait', 'avec', 'avez', 'aviez', 'avions', 'avoir', 'avons', 'ayant', 'ayante', 'ayantes', 'ayants', 'ayez', 'ayons', 'bien', 'c', 'ce', 'cela', 'celle', 'ces', 'cet', 'cette', 'comme', 'contre', 'd', 'dans', 'de', 'depuis', 'des', 'deux', 'dire', 'dit', 'doit', 'donc', 'dont', 'du', 'elle', 'en', 'encore', 'entre', 'es', 'est', 'et', 'eu', 'eue', 'eues', 'eurent', 'eus', 'eusse', 'eussent', 'eusses', 'eussiez', 'eussions', 'eut', 'eux', 'eûmes', 'eût', 'eûtes', 'faire', 'fait', 'faut', 'furent', 'fus', 'fusse', 'fussent', 'fusses', 'fussiez', 'fussions', 'fut', 'fûmes', 'fût', 'fûtes', 'het', 'il', 'ils', 'j', 'je', 'jusqu', 'l', 'la', 'le', 'les', 'leur', 'lui', 'm', 'ma', 'mais', 'me', 'mes', 'moi', 'moins', 'mon', 'même', 'n', 'ne', 'non', 'nos', 'notre', 'nous', 'on', 'ont', 'ou', 'par', 'pas', 'pendant', 'peut', 'plus', 'pour', 'qu', 'que', 'qui', 's', 'sa', 'sans', 'se', 'sera', 'serai', 'seraient', 'serais', 'serait', 'seras', 'serez', 'seriez', 'serions', 'serons', 'seront', 'ses', 'soient', 'sois', 'soit', 'sommes', 'son', 'sont', 'sous', 'soyez', 'soyons', 'suis', 'sur', 't', 'ta', 'te', 'tes', 'toi', 'ton', 'tous', 'tout', 'toutes', 'trois', 'tu', 'un', 'une', 'van', 'vos', 'votre', 'vous', 'y', 'à', 'étaient', 'étais', 'était', 'étant', 'étante', 'étantes', 'étants', 'étiez', 'étions', 'été', 'étée', 'étées', 'étés', 'êtes', 'être']\n"
     ]
    }
   ],
   "source": [
    "print(f\"{len(sw)} stopwords:\\n {sorted(sw)}\")"
   ]
  },
  {
   "cell_type": "markdown",
   "metadata": {},
   "source": [
    "## Tokeniser"
   ]
  },
  {
   "cell_type": "code",
   "execution_count": 8,
   "metadata": {
    "tags": []
   },
   "outputs": [],
   "source": [
    "# Récupération du contenu du fichier\n",
    "path = \"../data/all.txt\"\n",
    "limit = 10**8\n",
    "\n",
    "with open(path, 'r', encoding='utf-8') as f:\n",
    "    text = f.read()[:limit]"
   ]
  },
  {
   "cell_type": "code",
   "execution_count": 9,
   "metadata": {},
   "outputs": [
    {
     "name": "stdout",
     "output_type": "stream",
     "text": [
      "25843620 words found\n"
     ]
    }
   ],
   "source": [
    "# Tokenization\n",
    "words = nltk.wordpunct_tokenize(text)\n",
    "print(f\"{len(words)} words found\")"
   ]
  },
  {
   "cell_type": "code",
   "execution_count": 10,
   "metadata": {},
   "outputs": [
    {
     "data": {
      "text/plain": [
       "['ræge',\n",
       " 'quotidien',\n",
       " 'J00',\n",
       " 'EXEMPLAIRES',\n",
       " 'distribués',\n",
       " 'gratuitement',\n",
       " '■',\n",
       " 'k',\n",
       " '.',\n",
       " '‘']"
      ]
     },
     "execution_count": 10,
     "metadata": {},
     "output_type": "execute_result"
    }
   ],
   "source": [
    "words[:10]"
   ]
  },
  {
   "cell_type": "markdown",
   "metadata": {},
   "source": [
    "## Calculer la taille du vocabulaire"
   ]
  },
  {
   "cell_type": "code",
   "execution_count": 11,
   "metadata": {},
   "outputs": [
    {
     "name": "stdout",
     "output_type": "stream",
     "text": [
      "8728217 words kept (1180161 different word forms)\n"
     ]
    }
   ],
   "source": [
    "# Eliminer les stopwords et les termes non alphabétiques\n",
    "kept = [w.lower() for w in words if len(w) > 2 and w.isalpha() and w.lower() not in sw]\n",
    "voc = set(kept)\n",
    "print(f\"{len(kept)} words kept ({len(voc)} different word forms)\")"
   ]
  },
  {
   "cell_type": "markdown",
   "metadata": {},
   "source": [
    "## Récupérer les mots les plus fréquents et en faire un plot"
   ]
  },
  {
   "cell_type": "code",
   "execution_count": 12,
   "metadata": {},
   "outputs": [
    {
     "data": {
      "text/plain": [
       "[('rue', 110124),\n",
       " ('dem', 67917),\n",
       " ('bruxelles', 28757),\n",
       " ('ans', 27043),\n",
       " ('maison', 26459),\n",
       " ('rossel', 22209),\n",
       " ('louer', 21752),\n",
       " ('prix', 21675),\n",
       " ('bon', 20903),\n",
       " ('fille', 20616)]"
      ]
     },
     "execution_count": 12,
     "metadata": {},
     "output_type": "execute_result"
    }
   ],
   "source": [
    "fdist = nltk.FreqDist(kept)\n",
    "fdist.most_common(10)"
   ]
  },
  {
   "cell_type": "code",
   "execution_count": 13,
   "metadata": {
    "tags": []
   },
   "outputs": [
    {
     "data": {
      "image/png": "[encoded data removed]",
      "text/plain": [
       "<Figure size 640x480 with 1 Axes>"
      ]
     },
     "metadata": {},
     "output_type": "display_data"
    },
    {
     "data": {
      "text/plain": [
       "<AxesSubplot: xlabel='Samples', ylabel='Cumulative Counts'>"
      ]
     },
     "execution_count": 13,
     "metadata": {},
     "output_type": "execute_result"
    }
   ],
   "source": [
    "# Plot: les n mots les plus fréquents\n",
    "n = 10\n",
    "fdist.plot(n, cumulative=True)"
   ]
  },
  {
   "cell_type": "markdown",
   "metadata": {},
   "source": [
    "## Détecter les Hapax (mots qui n'apparaissent qu'une fois dans le corpus)"
   ]
  },
  {
   "cell_type": "code",
   "execution_count": 14,
   "metadata": {},
   "outputs": [
    {
     "data": {
      "text/plain": [
       "['ræge',\n",
       " 'ilàgg',\n",
       " 'lomération',\n",
       " 'fenile',\n",
       " 'fspir',\n",
       " 'proyinôe',\n",
       " 'sjont',\n",
       " 'çüacteur',\n",
       " 'unrez',\n",
       " 'agqior',\n",
       " 'erreraient',\n",
       " 'yyégularités',\n",
       " 'pouïtiqces',\n",
       " 'mplêtement',\n",
       " 'ilarrnodius',\n",
       " 'aristogiton',\n",
       " 'carbonari',\n",
       " 'grère',\n",
       " 'depuil',\n",
       " 'vjicillc',\n",
       " 'feàifo',\n",
       " 'navecmernt',\n",
       " 'imtîyii',\n",
       " 'étaphoriquement',\n",
       " 'teanqnii',\n",
       " 'siiicns',\n",
       " 'inoffensife',\n",
       " 'fhljxlx',\n",
       " 'polmltiies',\n",
       " 'notrrj']"
      ]
     },
     "execution_count": 14,
     "metadata": {},
     "output_type": "execute_result"
    }
   ],
   "source": [
    "fdist.hapaxes()[:30]"
   ]
  },
  {
   "cell_type": "markdown",
   "metadata": {},
   "source": [
    "## Trouver les mots les plus longs du corpus"
   ]
  },
  {
   "cell_type": "code",
   "execution_count": 15,
   "metadata": {
    "tags": []
   },
   "outputs": [
    {
     "data": {
      "text/plain": [
       "['ïesâsssaseshshsekshfîhsashsasasasashsashsasssafiashsasasasasishshâeshshshsesasahasesbsasashsasasasasasssésasas',\n",
       " 'bbqbbsbbaaababbbbbbaaababbbabbbboaflbflbbbbbbaaqaspbaabbababbabaabbbflbaaababbbbbabaabbbabnabbbbbbaaasbbb',\n",
       " 'oaaadoqdaabaaaanaaaaanoqaaaaaaabdaaaaaaaaaaaaaodaqoaaaadonaaaoaaaaobondaonaaaoqaoooanabaoaaaaaaaaaaaaa',\n",
       " 'mêêmmmmmmmmmmmamrnmêmimmmimmêmamêkêimêmiiêiêèmêêèmimmmêmmmmmmmmmbmmêmibiemmiêmmêtmmumêmm',\n",
       " 'wwwiwvwvwwwwwwwuwwvwvvywwvwwiwwwwwvvwwvwwvwvvwwwvuvwvwwwwwwwwwwwwwwwwww',\n",
       " 'wftiiiijikfiaabmbagbawhsbbiagiiaaagauambasÿaasiibwaanibiiwai',\n",
       " 'bbbbhbbbbsssbhbbbbbsbbhhgbhbshsggwwbbihbhlbbhhbbbëbbbbbkbbbi',\n",
       " 'djutespiècasüéfôctaeusesuvréespardesdeatlstesinexpérimentés',\n",
       " 'nâiïimimiâbnimbàisrmmmrbsmhsrrraamhbmmmhmabbmhrannmhbbti',\n",
       " 'bbaesiagiimisataimgaiaegvbsasasawabamflasabiasbebbmabea',\n",
       " 'mvmmmmimmwmaimsitvnmmmmmalîlnnwmmhmbmahilmnmambmgbm',\n",
       " 'ksrntsrnêmêtmmmêêmmêitmmêêhiêmêmiêêêêêêaêmmaêmêêmm',\n",
       " 'hsffiëhbhsshhsséhsséhbsssshséibshéëeÿshsshssshhsbï',\n",
       " 'hswfswiiawwmpibbwmwiesbmbbhhmbsbhshffllshshhhfil',\n",
       " 'slsfftmssiiismissmsfssffttllmhlvissssifimfssiss',\n",
       " 'mwbaànbndmebmimaiamnmapadnmhmmwaaimmàmnmdawsevw',\n",
       " 'teralektruonontegkephalokigklopeleiolagoosirai',\n",
       " 'demandequellesufiaireslucrativeseuespeurmitbmn',\n",
       " 'lapublicationdesdernièresrècetteshebdomadaires',\n",
       " 'nernëuestelfachriêkienaiitiqncentobiciellüment',\n",
       " 'aaaadaaqnooaoaoanaaaaaoaaaoadaaaaaaqoiinaaaaa',\n",
       " 'bbnbsaabmmambhhabbmmhmbhhpnmhnbnannaabbbmmhme',\n",
       " 'eberintpiosefficaceatutuberculosetînmestittii',\n",
       " 'inajoritésbienijluscertainesetbiénplùscbnsldé',\n",
       " 'imabhaaafemammhamhmhhamohmahamhmmamaammffvmh',\n",
       " 'mentquelareprésentationdesminoritésdoitfaire',\n",
       " 'hiïtzasotmimmimmxeemmmimmmmimmmêimaamêiimaal',\n",
       " 'mbbsbêbbsbbsbbbêbsêbsssbbbteasêtbaiabêêsêssm',\n",
       " 'majestépersanedêsiraitleùrfairèùnëimportante',\n",
       " 'aaaaqddaaabaaadoaaanmiaaananaaaaaaaaaaaaddaa']"
      ]
     },
     "execution_count": 15,
     "metadata": {},
     "output_type": "execute_result"
    }
   ],
   "source": [
    "n = 30\n",
    "sorted(voc, key=len, reverse=True)[:n]"
   ]
  }
 ],
 "metadata": {
  "kernelspec": {
   "display_name": "Python 3.10.5 ('tac_venv': venv)",
   "language": "python",
   "name": "python3"
  },
  "language_info": {
   "codemirror_mode": {
    "name": "ipython",
    "version": 3
   },
   "file_extension": ".py",
   "mimetype": "text/x-python",
   "name": "python",
   "nbconvert_exporter": "python",
   "pygments_lexer": "ipython3",
   "version": "3.11.6"
  },
  "vscode": {
   "interpreter": {
    "hash": "b1932ab1d169b4769d1550e799423b6477588e745f266d79d9004c136c81607e"
   }
  }
 },
 "nbformat": 4,
 "nbformat_minor": 4
}
