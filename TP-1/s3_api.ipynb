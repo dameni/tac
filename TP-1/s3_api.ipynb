{
 "cells": [
  {
   "cell_type": "markdown",
   "metadata": {},
   "source": [
    "# APIs: requêtes HTTP"
   ]
  },
  {
   "cell_type": "markdown",
   "metadata": {},
   "source": [
    "## Imports"
   ]
  },
  {
   "cell_type": "code",
   "execution_count": null,
   "metadata": {},
   "outputs": [],
   "source": [
    "import json\n",
    "import requests"
   ]
  },
  {
   "cell_type": "markdown",
   "metadata": {},
   "source": [
    "## Utiliser [Nominatim](https://nominatim.org/) fonction d'un dictionnaire pour la définition des termes "
   ]
  },
  {
   "cell_type": "code",
   "execution_count": 3,
   "metadata": {},
   "outputs": [
    {
     "name": "stdout",
     "output_type": "stream",
     "text": [
      "{'list': [{'definition': 'An individual or group of people that you [accumulate] across time. Here to stay.\\n\\n[Not related] to you by blood, but by [choice].\\n\\nSo we call them familates.', 'permalink': 'http://familate.urbanup.com/6173070', 'thumbs_up': 32, 'author': 'thebrandingbrand', 'word': 'familate', 'defid': 6173070, 'current_vote': '', 'written_on': '2011-10-30T18:35:21.000Z', 'example': 'Your [circle of trust], your familates.', 'thumbs_down': 6}, {'definition': 'The person who is very [smart], and can [invest] in [almost anything].', 'permalink': 'http://famil.urbanup.com/15429535', 'thumbs_up': 4, 'author': 'Nathan Fox', 'word': 'Famil', 'defid': 15429535, 'current_vote': '', 'written_on': '2020-10-28T18:34:32.555Z', 'example': '[John] is a [famil]', 'thumbs_down': 0}, {'definition': 'Doing what [you do] in [the family] [room].', 'permalink': 'http://familize.urbanup.com/786792', 'thumbs_up': 4, 'author': 'Stephen Krause', 'word': 'familize', 'defid': 786792, 'current_vote': '', 'written_on': '2004-08-09T03:43:48.000Z', 'example': '[Im] [going] to familize', 'thumbs_down': 3}, {'definition': \"Afton family (Deleted A&Y)\\r\\nAU From A tiktoker named Shallowmoonlight\\n\\n*Elizabeth Afton(1st one to die in the family and died from going close to Circus baby\\n\\n*[Christepher] Afton(2nd one to die in the family and did from his older brother from putting chris's head in [fredbear's] mouth)*\\r\\n*Clara Roselle Afton(3rd one to die in the family and got in a car crash from driving off a cliff)\\r\\n* William Afton(Died from getting chased into spring bonnie The amitronic is now named springtrap)\\r\\n*Micheal Terance Afton(Went to ever pizzareia because his father said so and went to sisterlocation and died from getting scoped by ennard and the scooper)\\n\\nElizabeth: Circus Baby & Scrap baby\\r\\nChris: Shadow Freddy\\r\\nClara: Bollora\\r\\nWilliam: Springbonnie/Spring Trap & Scrap Trap\\r\\nMicheal: Walking corpus/Rot & [Nightmare Foxy]\", 'permalink': 'http://fton-famil.urbanup.com/16142085', 'thumbs_up': 1, 'author': 'Tik Tok: Shallowmoonlight', 'word': 'fton Famil', 'defid': 16142085, 'current_vote': '', 'written_on': '2021-06-29T21:18:50.478Z', 'example': '[Dove]: [The Afton Family]~!🎶🎵\\r\\nSome [Hater]: Its now called fton Famil', 'thumbs_down': 0}, {'definition': 'slang French word for the [male genitals].\\n\\nIts literal [translation] is: \"[family jewels]\"', 'permalink': 'http://bijoux-de-famille.urbanup.com/4004438', 'thumbs_up': 5, 'author': 'teebFR', 'word': 'bijoux de famille', 'defid': 4004438, 'current_vote': '', 'written_on': '2009-05-29T23:30:02.000Z', 'example': \"J'ai très [mal] [aux] bijoux de famille. (=My [family jewels] really hurt)\", 'thumbs_down': 3}]}\n"
     ]
    }
   ],
   "source": [
    "import requests\n",
    "\n",
    "url = \"https://mashape-community-urban-dictionary.p.rapidapi.com/define\"\n",
    "\n",
    "querystring = {\"term\":\"famille\"}\n",
    "\n",
    "headers = {\n",
    "\t\"X-RapidAPI-Key\": \"84b2e29ef4msh9b4964a1f2bb3f5p179104jsn7289e41c5f6c\",\n",
    "\t\"X-RapidAPI-Host\": \"mashape-community-urban-dictionary.p.rapidapi.com\"\n",
    "}\n",
    "\n",
    "response = requests.get(url, headers=headers, params=querystring)\n",
    "\n",
    "print(response.json())"
   ]
  },
  {
   "cell_type": "markdown",
   "metadata": {},
   "source": [
    "## Pour en savoir plus"
   ]
  },
  {
   "cell_type": "markdown",
   "metadata": {},
   "source": [
    "- Les API Rest: https://towardsdatascience.com/introduction-to-rest-apis-90b5d9676004\n",
    "- La librairie [`requests`](https://requests.readthedocs.io/en/latest/)\n",
    "- Développer une API en Python : https://openclassrooms.com/en/courses/4525361-realisez-un-dashboard-avec-tableau/5774811-creez-une-api-avec-flask"
   ]
  }
 ],
 "metadata": {
  "kernelspec": {
   "display_name": "Python 3.10.5 ('tac_venv': venv)",
   "language": "python",
   "name": "python3"
  },
  "language_info": {
   "codemirror_mode": {
    "name": "ipython",
    "version": 3
   },
   "file_extension": ".py",
   "mimetype": "text/x-python",
   "name": "python",
   "nbconvert_exporter": "python",
   "pygments_lexer": "ipython3",
   "version": "3.11.6"
  },
  "vscode": {
   "interpreter": {
    "hash": "b1932ab1d169b4769d1550e799423b6477588e745f266d79d9004c136c81607e"
   }
  }
 },
 "nbformat": 4,
 "nbformat_minor": 4
}
