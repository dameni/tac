{
 "cells": [
  {
   "cell_type": "markdown",
   "metadata": {},
   "source": [
    "# Bases de connaissance : interroger Wikidata à l'aide de requêtes SPARQL"
   ]
  },
  {
   "cell_type": "markdown",
   "metadata": {},
   "source": [
    "## Imports"
   ]
  },
  {
   "cell_type": "code",
   "execution_count": 13,
   "metadata": {},
   "outputs": [],
   "source": [
    "from datetime import datetime as dt\n",
    "from SPARQLWrapper import SPARQLWrapper, JSON"
   ]
  },
  {
   "cell_type": "markdown",
   "metadata": {},
   "source": [
    "## liste des pays en 1830"
   ]
  },
  {
   "cell_type": "code",
   "execution_count": 16,
   "metadata": {},
   "outputs": [
    {
     "name": "stdout",
     "output_type": "stream",
     "text": [
      "\n",
      "536 pays de l'année 1830\n",
      "\n",
      "[{'h': {'type': 'uri', 'value': 'http://www.wikidata.org/entity/Q1760729'}, 'hLabel': {'xml:lang': 'en', 'type': 'literal', 'value': 'Alashiya'}, 'inception': {'datatype': 'http://www.w3.org/2001/XMLSchema#dateTime', 'type': 'literal', 'value': '-2000-01-01T00:00:00Z'}, 'coor': {'datatype': 'http://www.opengis.net/ont/geosparql#wktLiteral', 'type': 'literal', 'value': 'Point(33.433333333 35.1)'}}, {'h': {'type': 'uri', 'value': 'http://www.wikidata.org/entity/Q845909'}, 'hLabel': {'xml:lang': 'en', 'type': 'literal', 'value': 'Scythia'}, 'inception': {'datatype': 'http://www.w3.org/2001/XMLSchema#dateTime', 'type': 'literal', 'value': '-0800-01-01T00:00:00Z'}}, {'h': {'type': 'uri', 'value': 'http://www.wikidata.org/entity/Q12060881'}, 'hLabel': {'xml:lang': 'en', 'type': 'literal', 'value': 'Imperial China'}, 'inception': {'datatype': 'http://www.w3.org/2001/XMLSchema#dateTime', 'type': 'literal', 'value': '-0219-01-01T00:00:00Z'}, 'dissolved': {'datatype': 'http://www.w3.org/2001/XMLSchema#dateTime', 'type': 'literal', 'value': '1912-01-01T00:00:00Z'}}, {'h': {'type': 'uri', 'value': 'http://www.wikidata.org/entity/Q262'}, 'hLabel': {'xml:lang': 'en', 'type': 'literal', 'value': 'Algeria'}, 'inception': {'datatype': 'http://www.w3.org/2001/XMLSchema#dateTime', 'type': 'literal', 'value': '-0201-01-01T00:00:00Z'}, 'coor': {'datatype': 'http://www.opengis.net/ont/geosparql#wktLiteral', 'type': 'literal', 'value': 'Point(1.0 28.0)'}}, {'h': {'type': 'uri', 'value': 'http://www.wikidata.org/entity/Q12816977'}, 'hLabel': {'xml:lang': 'en', 'type': 'literal', 'value': 'Kanker State'}, 'inception': {'datatype': 'http://www.w3.org/2001/XMLSchema#dateTime', 'type': 'literal', 'value': '0200-01-01T00:00:00Z'}, 'coor': {'datatype': 'http://www.opengis.net/ont/geosparql#wktLiteral', 'type': 'literal', 'value': 'Point(81.48333333 20.26666667)'}, 'dissolved': {'datatype': 'http://www.w3.org/2001/XMLSchema#dateTime', 'type': 'literal', 'value': '1947-01-01T00:00:00Z'}}, {'h': {'type': 'uri', 'value': 'http://www.wikidata.org/entity/Q238'}, 'hLabel': {'xml:lang': 'en', 'type': 'literal', 'value': 'San Marino'}, 'inception': {'datatype': 'http://www.w3.org/2001/XMLSchema#dateTime', 'type': 'literal', 'value': '0301-09-04T00:00:00Z'}, 'coor': {'datatype': 'http://www.opengis.net/ont/geosparql#wktLiteral', 'type': 'literal', 'value': 'Point(12.466666666 43.933333333)'}}, {'h': {'type': 'uri', 'value': 'http://www.wikidata.org/entity/Q25'}, 'hLabel': {'xml:lang': 'en', 'type': 'literal', 'value': 'Wales'}, 'inception': {'datatype': 'http://www.w3.org/2001/XMLSchema#dateTime', 'type': 'literal', 'value': '0500-01-01T00:00:00Z'}, 'coor': {'datatype': 'http://www.opengis.net/ont/geosparql#wktLiteral', 'type': 'literal', 'value': 'Point(-3.633333333 52.35)'}}, {'h': {'type': 'uri', 'value': 'http://www.wikidata.org/entity/Q11931244'}, 'hLabel': {'type': 'literal', 'value': 'Q11931244'}, 'inception': {'datatype': 'http://www.w3.org/2001/XMLSchema#dateTime', 'type': 'literal', 'value': '0501-01-01T00:00:00Z'}}, {'h': {'type': 'uri', 'value': 'http://www.wikidata.org/entity/Q1060520'}, 'hLabel': {'xml:lang': 'en', 'type': 'literal', 'value': 'Chamba State'}, 'inception': {'datatype': 'http://www.w3.org/2001/XMLSchema#dateTime', 'type': 'literal', 'value': '0550-01-01T00:00:00Z'}, 'coor': {'datatype': 'http://www.opengis.net/ont/geosparql#wktLiteral', 'type': 'literal', 'value': 'Point(76.13 32.57)'}, 'dissolved': {'datatype': 'http://www.w3.org/2001/XMLSchema#dateTime', 'type': 'literal', 'value': '1948-01-01T00:00:00Z'}}, {'h': {'type': 'uri', 'value': 'http://www.wikidata.org/entity/Q4401190'}, 'hLabel': {'xml:lang': 'en', 'type': 'literal', 'value': 'Rutul Federation'}, 'inception': {'datatype': 'http://www.w3.org/2001/XMLSchema#dateTime', 'type': 'literal', 'value': '0601-01-01T00:00:00Z'}, 'dissolved': {'datatype': 'http://www.w3.org/2001/XMLSchema#dateTime', 'type': 'literal', 'value': '1839-01-01T00:00:00Z'}}]\n"
     ]
    }
   ],
   "source": [
    "#Liste des pays en 1830\n",
    "\n",
    "# Retrieve results from SPARQL\n",
    "endpoint = \"https://query.wikidata.org/bigdata/namespace/wdq/sparql\"\n",
    "sparql = SPARQLWrapper(endpoint)\n",
    "\n",
    "statement = \"\"\"\n",
    "  SELECT DISTINCT ?h ?hLabel ?inception ?dissolved ?coor\n",
    "WHERE\n",
    "{\n",
    "  VALUES ?countryclass { wd:Q3024240 wd:Q6256 wd:Q3624078 }\n",
    "  ?h p:P31/ps:P31 ?countryclass  .\n",
    "  ?h wdt:P571 ?inception .\n",
    "  OPTIONAL { ?h wdt:P576 ?dissolved } .\n",
    "  FILTER (?inception < \"1831-01-01T00:00:00Z\"^^xsd:dateTime)\n",
    "  FILTER (?dissolved >= \"1831-01-01T00:00:00Z\"^^xsd:dateTime || !Bound(?dissolved) )\n",
    "  SERVICE wikibase:label { bd:serviceParam wikibase:language \"[AUTO_LANGUAGE],en\" }\n",
    "  OPTIONAL { ?h wdt:P625 ?coor } .\n",
    "}\n",
    "ORDER BY ?inception\n",
    "\"\"\"\n",
    "\n",
    "sparql.setQuery(statement)\n",
    "sparql.setReturnFormat(JSON)\n",
    "results = sparql.query().convert()\n",
    "\n",
    "rows = results['results']['bindings']\n",
    "print(f\"\\n{len(rows)} pays de l'année 1830\\n\")\n",
    "print(rows[:10])\n"
   ]
  },
  {
   "cell_type": "markdown",
   "metadata": {},
   "source": [
    "## Pour en savoir plus"
   ]
  },
  {
   "cell_type": "markdown",
   "metadata": {},
   "source": [
    "- [Le projet Wikidata](https://www.wikidata.org/wiki/Wikidata:Main_Page)\n",
    "- [Aide à la construction de requêtes](https://query.wikidata.org/)"
   ]
  }
 ],
 "metadata": {
  "kernelspec": {
   "display_name": "Python 3.10.5 ('venv_tac': venv)",
   "language": "python",
   "name": "python3"
  },
  "language_info": {
   "codemirror_mode": {
    "name": "ipython",
    "version": 3
   },
   "file_extension": ".py",
   "mimetype": "text/x-python",
   "name": "python",
   "nbconvert_exporter": "python",
   "pygments_lexer": "ipython3",
   "version": "3.11.6"
  },
  "vscode": {
   "interpreter": {
    "hash": "a942b0119f0c2604d4302f32a2a6e790f63eb4c9b0c297be7a26bd56fa8e02c6"
   }
  }
 },
 "nbformat": 4,
 "nbformat_minor": 4
}
